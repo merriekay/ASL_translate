{
  "nbformat": 4,
  "nbformat_minor": 0,
  "metadata": {
    "colab": {
      "name": "video_to_images.ipynb",
      "provenance": [],
      "mount_file_id": "1jWaTbDK0Bnmjk6Vsl9BI22BcqQ8e76IV",
      "authorship_tag": "ABX9TyNZykeD7xZgn8V2FNrlLHLC",
      "include_colab_link": true
    },
    "kernelspec": {
      "name": "python3",
      "display_name": "Python 3"
    },
    "language_info": {
      "name": "python"
    }
  },
  "cells": [
    {
      "cell_type": "markdown",
      "metadata": {
        "id": "view-in-github",
        "colab_type": "text"
      },
      "source": [
        "<a href=\"https://colab.research.google.com/github/merriekay/ASL_translate/blob/main/video_to_images.ipynb\" target=\"_parent\"><img src=\"https://colab.research.google.com/assets/colab-badge.svg\" alt=\"Open In Colab\"/></a>"
      ]
    },
    {
      "cell_type": "code",
      "metadata": {
        "colab": {
          "base_uri": "https://localhost:8080/"
        },
        "id": "HQwCuR3C4T8Y",
        "outputId": "96576070-fd24-4426-ce2d-da94c9f05247"
      },
      "source": [
        "import pandas\n",
        "import numpy\n",
        "from google.colab import drive\n",
        "drive.mount('/content/drive')"
      ],
      "execution_count": 17,
      "outputs": [
        {
          "output_type": "stream",
          "name": "stdout",
          "text": [
            "Drive already mounted at /content/drive; to attempt to forcibly remount, call drive.mount(\"/content/drive\", force_remount=True).\n"
          ]
        }
      ]
    },
    {
      "cell_type": "code",
      "metadata": {
        "id": "-DiX1x1j2wYW"
      },
      "source": [
        "import cv2\n",
        "import os\n",
        "vidcap = cv2.VideoCapture('/content/drive/MyDrive/Research/ASL_Translation/data/A.mov')\n",
        "success,image = vidcap.read()\n",
        "count = 0\n",
        "while success:\n",
        "  path = '/content/drive/MyDrive/Research/ASL_Translation/data/A/images'\n",
        "  cv2.imwrite(os.path.join(path, ('A%d.jpg' % count)), image)     # save frame as JPEG file      \n",
        "  success,image = vidcap.read()\n",
        "  print('Read a new frame: ', count)\n",
        "  count += 1"
      ],
      "execution_count": null,
      "outputs": []
    }
  ]
}